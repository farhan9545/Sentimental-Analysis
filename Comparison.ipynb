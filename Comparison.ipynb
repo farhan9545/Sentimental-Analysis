{
 "cells": [
  {
   "cell_type": "code",
   "execution_count": 1,
   "metadata": {},
   "outputs": [],
   "source": [
    "import pandas as pd\n",
    "import numpy as np\n",
    "import nltk\n",
    "from nltk.corpus import stopwords\n",
    "from sklearn.feature_extraction.text import CountVectorizer\n",
    "from sklearn.metrics import classification_report\n",
    "from sklearn.preprocessing import MultiLabelBinarizer\n",
    "from sklearn.model_selection import train_test_split\n",
    "from sklearn.naive_bayes import MultinomialNB\n",
    "from sklearn.metrics import confusion_matrix, classification_report\n",
    "from sklearn.svm import LinearSVC\n",
    "from vaderSentiment.vaderSentiment import SentimentIntensityAnalyzer"
   ]
  },
  {
   "cell_type": "code",
   "execution_count": 17,
   "metadata": {},
   "outputs": [],
   "source": [
    "def dataPreProcess():\n",
    "    data = pd.read_csv('yelp.csv')\n",
    "    yelpReviews = data[(data['stars'] == 1) | (data['stars'] == 5)]\n",
    "    X = yelpReviews['text']\n",
    "    y = yelpReviews['stars']\n",
    "    return X,y"
   ]
  },
  {
   "cell_type": "code",
   "execution_count": 18,
   "metadata": {},
   "outputs": [],
   "source": [
    "def SVM(X,Y):\n",
    "    tokens=[]\n",
    "    for review in X:\n",
    "        tokens.append(review.split())\n",
    "\n",
    "    binarizer = MultiLabelBinarizer()\n",
    "    binarizer.fit(tokens)\n",
    "\n",
    "    X_train, X_test, y_train, y_test = train_test_split(tokens,Y ,test_size=0.25, random_state=111)\n",
    "\n",
    "    lsvm = LinearSVC()\n",
    "    lsvm.fit(binarizer.transform(X_train), y_train)\n",
    "    score = lsvm.score(binarizer.transform(X_test), y_test)\n",
    "\n",
    "    print(score)\n",
    "    print('\\n')\n",
    "    print(classification_report(y_test, lsvm.predict(binarizer.transform(X_test))))"
   ]
  },
  {
   "cell_type": "code",
   "execution_count": 19,
   "metadata": {},
   "outputs": [
    {
     "name": "stdout",
     "output_type": "stream",
     "text": [
      "0.9148727984344422\n",
      "\n",
      "\n",
      "             precision    recall  f1-score   support\n",
      "\n",
      "          1       0.86      0.68      0.76       202\n",
      "          5       0.93      0.97      0.95       820\n",
      "\n",
      "avg / total       0.91      0.91      0.91      1022\n",
      "\n"
     ]
    }
   ],
   "source": [
    "X2,y=dataPreProcess()\n",
    "X=X2.tolist()\n",
    "SVM(X,y)"
   ]
  },
  {
   "cell_type": "code",
   "execution_count": 20,
   "metadata": {},
   "outputs": [],
   "source": [
    "X,y=dataPreProcess()"
   ]
  },
  {
   "cell_type": "markdown",
   "metadata": {},
   "source": [
    "## Feature Selection"
   ]
  },
  {
   "cell_type": "code",
   "execution_count": 6,
   "metadata": {},
   "outputs": [],
   "source": [
    "Vectorizer = CountVectorizer(analyzer='char',ngram_range=(2, 2)).fit(X)"
   ]
  },
  {
   "cell_type": "code",
   "execution_count": 142,
   "metadata": {},
   "outputs": [],
   "source": [
    "Vectorizer = CountVectorizer(analyzer='char',ngram_range=(2, 2), max_df=0.7 ).fit(X)"
   ]
  },
  {
   "cell_type": "code",
   "execution_count": 25,
   "metadata": {},
   "outputs": [],
   "source": [
    "Vectorizer = CountVectorizer(analyzer='char',ngram_range=(3, 3),max_df=0.7).fit(X)"
   ]
  },
  {
   "cell_type": "code",
   "execution_count": 151,
   "metadata": {},
   "outputs": [],
   "source": [
    "Vectorizer = CountVectorizer(analyzer='char',ngram_range=(3, 3)).fit(X)"
   ]
  },
  {
   "cell_type": "code",
   "execution_count": 115,
   "metadata": {},
   "outputs": [],
   "source": [
    "Vectorizer = CountVectorizer(analyzer='word',stop_words='english').fit(X)"
   ]
  },
  {
   "cell_type": "code",
   "execution_count": 11,
   "metadata": {},
   "outputs": [],
   "source": [
    "Vectorizer = CountVectorizer(analyzer='word').fit(X) #simple"
   ]
  },
  {
   "cell_type": "code",
   "execution_count": 21,
   "metadata": {},
   "outputs": [],
   "source": [
    "Vectorizer = CountVectorizer(analyzer='word',stop_words='english',max_features=9000).fit(X)"
   ]
  },
  {
   "cell_type": "markdown",
   "metadata": {},
   "source": [
    "## Transformation "
   ]
  },
  {
   "cell_type": "code",
   "execution_count": 22,
   "metadata": {},
   "outputs": [],
   "source": [
    "X = Vectorizer.transform(X)\n",
    "X_train, X_test, y_train, y_test = train_test_split(X, y, test_size=0.3, random_state=101)"
   ]
  },
  {
   "cell_type": "markdown",
   "metadata": {},
   "source": [
    "## Multinomial NaivesBaeys"
   ]
  },
  {
   "cell_type": "code",
   "execution_count": 23,
   "metadata": {},
   "outputs": [],
   "source": [
    "nb = MultinomialNB()\n",
    "nb.fit(X_train, y_train)\n",
    "preds = nb.predict(X_test)"
   ]
  },
  {
   "cell_type": "code",
   "execution_count": 24,
   "metadata": {},
   "outputs": [
    {
     "name": "stdout",
     "output_type": "stream",
     "text": [
      "[[186  42]\n",
      " [ 47 951]]\n",
      "\n",
      "\n",
      "             precision    recall  f1-score   support\n",
      "\n",
      "          1       0.80      0.82      0.81       228\n",
      "          5       0.96      0.95      0.96       998\n",
      "\n",
      "avg / total       0.93      0.93      0.93      1226\n",
      "\n"
     ]
    }
   ],
   "source": [
    "print(confusion_matrix(y_test, preds))\n",
    "print('\\n')\n",
    "print(classification_report(y_test, preds))"
   ]
  },
  {
   "cell_type": "markdown",
   "metadata": {},
   "source": [
    "## VaderAnalysis"
   ]
  },
  {
   "cell_type": "code",
   "execution_count": 15,
   "metadata": {},
   "outputs": [],
   "source": [
    "def getVaderAnalysis(text):\n",
    "    snt = analyzer.polarity_scores(text)\n",
    "    if(snt['pos']>snt['neg']):\n",
    "        return 5\n",
    "    else:\n",
    "        return 1"
   ]
  },
  {
   "cell_type": "code",
   "execution_count": 16,
   "metadata": {},
   "outputs": [
    {
     "name": "stdout",
     "output_type": "stream",
     "text": [
      "             precision    recall  f1-score   support\n",
      "\n",
      "          1       0.83      0.56      0.67       749\n",
      "          5       0.91      0.97      0.94      3337\n",
      "\n",
      "avg / total       0.89      0.90      0.89      4086\n",
      "\n"
     ]
    }
   ],
   "source": [
    "analyzer = SentimentIntensityAnalyzer()\n",
    "results=[]\n",
    "for reviews in X2:\n",
    "    results.append(getVaderAnalysis(reviews))\n",
    "print(classification_report(y, results))"
   ]
  },
  {
   "cell_type": "code",
   "execution_count": null,
   "metadata": {},
   "outputs": [],
   "source": []
  }
 ],
 "metadata": {
  "kernelspec": {
   "display_name": "Python 3",
   "language": "python",
   "name": "python3"
  },
  "language_info": {
   "codemirror_mode": {
    "name": "ipython",
    "version": 3
   },
   "file_extension": ".py",
   "mimetype": "text/x-python",
   "name": "python",
   "nbconvert_exporter": "python",
   "pygments_lexer": "ipython3",
   "version": "3.6.4"
  }
 },
 "nbformat": 4,
 "nbformat_minor": 2
}
